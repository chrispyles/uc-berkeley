{
 "cells": [
  {
   "cell_type": "markdown",
   "metadata": {
    "slideshow": {
     "slide_type": "slide"
    }
   },
   "source": [
    "# L&S 88 - Lab 1\n",
    "_Lab created by Chris Pyles, data set from [Kaggle](https://www.kaggle.com/jrobischon/wikipedia-movie-plots)_\n",
    "\n",
    "In this L&S 88 lab, we will explore the Jupyter environment and think about questions of reproducibility. As we discussed this week and last week, reproducibility is one of the most important aspects of data science; further, we talked about how annotating code and displaying results in a format that makes it accessible and which allows others to use different technologies to recreate your process is of paramount importance.\n",
    "\n",
    "For this lab, we will be taking these ideas and applying them to a dataset that has had some work done on it already. In this notebook, we have loaded a data set that contains information about movies. This notebook contains code that _cleans_ the data; that is, it puts it into a format that can be used to answer a data-driven question. **Your assignment will be to fill in the Markdown cells in this notebook so that the code in each cell has an explanation for its methodology.** In order to help you with this, we will provide you with the question that we are using the data set to answer:"
   ]
  },
  {
   "cell_type": "markdown",
   "metadata": {
    "slideshow": {
     "slide_type": "subslide"
    }
   },
   "source": [
    "\n",
    "---\n",
    "\n",
    "### The Question\n",
    "The first part of developing a data-driven project is to decide what question you want to answer. The question needs to be specific, and it needs to be something you can develop a step-by-step approach for. With this notebook, I am going to use the `movies` Table to answer the following question:\n",
    "> Can we predict the genre of a movie based on its synopsis?\n",
    "\n",
    "It will take a few steps to answer this question. The main methodology will be to create a test set and determine the frequency of different words in synopses within different genres, and then develop a $k$-nearest neighbors classifier based on this information. The over-arching workflow will look something like this:\n",
    "1. Data preprocessing\n",
    "2. Group movies by genre and look for recurring words in plots\n",
    "3. Write a $k$-nearest neighbor classifier\n",
    "4. Test the classifier and determine its accuracy\n",
    "\n",
    "---\n",
    "\n"
   ]
  },
  {
   "cell_type": "markdown",
   "metadata": {
    "slideshow": {
     "slide_type": "subslide"
    }
   },
   "source": [
    "Again, this notebook only focuses on Step 1, the data preprocessing (cleaning). Whenever you see a cell that looks like this:"
   ]
  },
  {
   "cell_type": "markdown",
   "metadata": {
    "slideshow": {
     "slide_type": "subslide"
    }
   },
   "source": [
    "Type _Markdown_ and LaTeX: $\\alpha ^2$"
   ]
  },
  {
   "cell_type": "markdown",
   "metadata": {
    "slideshow": {
     "slide_type": "subslide"
    }
   },
   "source": [
    "double click it to edit and fill in the cell with Markdown to describe what is happening in the code cell below it. _Explain any assumptions made in the cell and any heuristics used._ For the last Markdown cell, write a little conclusion about each step we went through and the overarching process of data cleaning."
   ]
  },
  {
   "cell_type": "markdown",
   "metadata": {
    "slideshow": {
     "slide_type": "slide"
    }
   },
   "source": [
    "In this notebook, there is some Python syntax that some of you may not be familiar with. A few times in the cells below, you will see something that looks like this:\n",
    "\n",
    "```python\n",
    "try:\n",
    "    <try_expression>\n",
    "except <error>:\n",
    "    <error_expression>\n",
    "```\n",
    "\n",
    "These blocks tell Python to attempt the `<try_expression>` and if the error `<error>` is thrown, then to execute the `<error_expression>`. Below is a quick example of how these are used. In the first block, `x` is not defined, so a `NameError` is thrown, resulting in the `except` statement being run. In between the blocks, `x` is defined, so when the second block runs, the value assigned to `x` will be printed and, since no error is thrown, the `except` statement is not run."
   ]
  },
  {
   "cell_type": "code",
   "execution_count": 9,
   "metadata": {
    "slideshow": {
     "slide_type": "subslide"
    }
   },
   "outputs": [
    {
     "name": "stdout",
     "output_type": "stream",
     "text": [
      "2\n",
      "2\n"
     ]
    }
   ],
   "source": [
    "try:\n",
    "    print(x)\n",
    "except NameError:\n",
    "    print(\"x is not defined, so this is printed\")\n",
    "    \n",
    "x = 2\n",
    "\n",
    "try:\n",
    "    print(x)\n",
    "except NameError:\n",
    "    print(\"this won't be printed, because x is defined now\")"
   ]
  },
  {
   "cell_type": "markdown",
   "metadata": {
    "slideshow": {
     "slide_type": "slide"
    }
   },
   "source": [
    "If you run into any more Python expressions you're unfamiliar with, ask one of us or check out the [Python docs](https://docs.python.org/3/) (although it may be more helpful to Google the method, instead of sifting through the documentation).\n",
    "\n",
    "With regards to Markdown, we'll cover a more in-depth introduction to it later, but here are the basics: use underscores to _italicize_ (`_italicize_`) and double asterisks to **bolden** (`**bolden**`). Create ordered list by beginning each line with a number and a period:\n",
    "1. `1.`\n",
    "2. `2.` etc.\n",
    "\n",
    "and unordered lists with asterisks:\n",
    "* `*`\n",
    "* `*` etc.\n",
    "\n",
    "If you have any other Markdown questions, let us know and we can help with the syntax. Get into groups, get working, and good luck!\n",
    "\n",
    "---"
   ]
  },
  {
   "cell_type": "markdown",
   "metadata": {},
   "source": []
  },
  {
   "cell_type": "code",
   "execution_count": 10,
   "metadata": {},
   "outputs": [
    {
     "data": {
      "text/html": [
       "<table border=\"1\" class=\"dataframe\">\n",
       "    <thead>\n",
       "        <tr>\n",
       "            <th>Release Year</th> <th>Title</th> <th>Origin/Ethnicity</th> <th>Director</th> <th>Cast</th> <th>Genre</th> <th>Wiki Page</th> <th>Plot</th>\n",
       "        </tr>\n",
       "    </thead>\n",
       "    <tbody>\n",
       "        <tr>\n",
       "            <td>1903        </td> <td>Alice in Wonderland            </td> <td>American        </td> <td>Cecil Hepworth                         </td> <td>May Clark                        </td> <td>unknown     </td> <td>https://en.wikipedia.org/wiki/Alice_in_Wonderland_(1903_ ...</td> <td>Alice follows a large white rabbit down a \"Rabbit-hole\". ...</td>\n",
       "        </tr>\n",
       "        <tr>\n",
       "            <td>1907        </td> <td>Daniel Boone                   </td> <td>American        </td> <td>Wallace McCutcheon and Ediwin S. Porter</td> <td>William Craven, Florence Lawrence</td> <td>biographical</td> <td>https://en.wikipedia.org/wiki/Daniel_Boone_(1907_film)      </td> <td>Boone's daughter befriends an Indian maiden as Boone and ...</td>\n",
       "        </tr>\n",
       "        <tr>\n",
       "            <td>1907        </td> <td>How Brown Saw the Baseball Game</td> <td>American        </td> <td>Unknown                                </td> <td>Unknown                          </td> <td>comedy      </td> <td>https://en.wikipedia.org/wiki/How_Brown_Saw_the_Baseball ...</td> <td>Before heading out to a baseball game at a nearby ballpa ...</td>\n",
       "        </tr>\n",
       "        <tr>\n",
       "            <td>1907        </td> <td>Laughing Gas                   </td> <td>American        </td> <td>Edwin Stanton Porter                   </td> <td>Bertha Regustus, Edward Boulden  </td> <td>comedy      </td> <td>https://en.wikipedia.org/wiki/Laughing_Gas_(film)#1907_Film </td> <td>The plot is that of a black woman going to the dentist f ...</td>\n",
       "        </tr>\n",
       "        <tr>\n",
       "            <td>1908        </td> <td>The Adventures of Dollie       </td> <td>American        </td> <td>D. W. Griffith                         </td> <td>Arthur V. Johnson, Linda Arvidson</td> <td>drama       </td> <td>https://en.wikipedia.org/wiki/The_Adventures_of_Dollie      </td> <td>On a beautiful summer day a father and mother take their ...</td>\n",
       "        </tr>\n",
       "    </tbody>\n",
       "</table>\n",
       "<p>... (1995 rows omitted)</p>"
      ],
      "text/plain": [
       "<IPython.core.display.HTML object>"
      ]
     },
     "metadata": {},
     "output_type": "display_data"
    }
   ],
   "source": [
    "from datascience import *\n",
    "import numpy as np\n",
    "import string\n",
    "\n",
    "movies = Table.read_table('movie_plots.csv')\n",
    "movies.show(5)"
   ]
  },
  {
   "cell_type": "markdown",
   "metadata": {},
   "source": [
    "this cell is doing _"
   ]
  },
  {
   "cell_type": "code",
   "execution_count": 11,
   "metadata": {},
   "outputs": [
    {
     "data": {
      "text/html": [
       "<table border=\"1\" class=\"dataframe\">\n",
       "    <thead>\n",
       "        <tr>\n",
       "            <th>Genre</th> <th>Plot</th>\n",
       "        </tr>\n",
       "    </thead>\n",
       "    <tbody>\n",
       "        <tr>\n",
       "            <td>unknown     </td> <td>Alice follows a large white rabbit down a \"Rabbit-hole\". ...</td>\n",
       "        </tr>\n",
       "        <tr>\n",
       "            <td>biographical</td> <td>Boone's daughter befriends an Indian maiden as Boone and ...</td>\n",
       "        </tr>\n",
       "        <tr>\n",
       "            <td>comedy      </td> <td>Before heading out to a baseball game at a nearby ballpa ...</td>\n",
       "        </tr>\n",
       "        <tr>\n",
       "            <td>comedy      </td> <td>The plot is that of a black woman going to the dentist f ...</td>\n",
       "        </tr>\n",
       "        <tr>\n",
       "            <td>drama       </td> <td>On a beautiful summer day a father and mother take their ...</td>\n",
       "        </tr>\n",
       "    </tbody>\n",
       "</table>\n",
       "<p>... (1995 rows omitted)</p>"
      ],
      "text/plain": [
       "<IPython.core.display.HTML object>"
      ]
     },
     "metadata": {},
     "output_type": "display_data"
    }
   ],
   "source": [
    "movies = movies.select('Genre', 'Plot')\n",
    "movies.show(5)"
   ]
  },
  {
   "cell_type": "markdown",
   "metadata": {},
   "source": []
  },
  {
   "cell_type": "code",
   "execution_count": 12,
   "metadata": {},
   "outputs": [
    {
     "data": {
      "text/html": [
       "<table border=\"1\" class=\"dataframe\">\n",
       "    <thead>\n",
       "        <tr>\n",
       "            <th>Genre</th> <th>count</th>\n",
       "        </tr>\n",
       "    </thead>\n",
       "    <tbody>\n",
       "        <tr>\n",
       "            <td>action             </td> <td>7    </td>\n",
       "        </tr>\n",
       "        <tr>\n",
       "            <td>action adventure   </td> <td>1    </td>\n",
       "        </tr>\n",
       "        <tr>\n",
       "            <td>adventure          </td> <td>49   </td>\n",
       "        </tr>\n",
       "        <tr>\n",
       "            <td>adventure film     </td> <td>1    </td>\n",
       "        </tr>\n",
       "        <tr>\n",
       "            <td>adventure horror   </td> <td>1    </td>\n",
       "        </tr>\n",
       "        <tr>\n",
       "            <td>adventure serial   </td> <td>1    </td>\n",
       "        </tr>\n",
       "        <tr>\n",
       "            <td>adventure, action  </td> <td>2    </td>\n",
       "        </tr>\n",
       "        <tr>\n",
       "            <td>adventure, drama   </td> <td>2    </td>\n",
       "        </tr>\n",
       "        <tr>\n",
       "            <td>adventure, fantasy </td> <td>1    </td>\n",
       "        </tr>\n",
       "        <tr>\n",
       "            <td>adventure, thriller</td> <td>1    </td>\n",
       "        </tr>\n",
       "    </tbody>\n",
       "</table>\n",
       "<p>... (108 rows omitted)</p>"
      ],
      "text/plain": [
       "Genre               | count\n",
       "action              | 7\n",
       "action adventure    | 1\n",
       "adventure           | 49\n",
       "adventure film      | 1\n",
       "adventure horror    | 1\n",
       "adventure serial    | 1\n",
       "adventure, action   | 2\n",
       "adventure, drama    | 2\n",
       "adventure, fantasy  | 1\n",
       "adventure, thriller | 1\n",
       "... (108 rows omitted)"
      ]
     },
     "execution_count": 12,
     "metadata": {},
     "output_type": "execute_result"
    }
   ],
   "source": [
    "movies.group('Genre')"
   ]
  },
  {
   "cell_type": "markdown",
   "metadata": {},
   "source": []
  },
  {
   "cell_type": "code",
   "execution_count": 13,
   "metadata": {},
   "outputs": [
    {
     "data": {
      "text/html": [
       "<table border=\"1\" class=\"dataframe\">\n",
       "    <thead>\n",
       "        <tr>\n",
       "            <th>Genre</th> <th>Plot</th>\n",
       "        </tr>\n",
       "    </thead>\n",
       "    <tbody>\n",
       "        <tr>\n",
       "            <td>comedy</td> <td>Before heading out to a baseball game at a nearby ballpa ...</td>\n",
       "        </tr>\n",
       "        <tr>\n",
       "            <td>comedy</td> <td>The plot is that of a black woman going to the dentist f ...</td>\n",
       "        </tr>\n",
       "        <tr>\n",
       "            <td>drama </td> <td>On a beautiful summer day a father and mother take their ...</td>\n",
       "        </tr>\n",
       "        <tr>\n",
       "            <td>drama </td> <td>A thug accosts a girl as she leaves her workplace but a  ...</td>\n",
       "        </tr>\n",
       "        <tr>\n",
       "            <td>comedy</td> <td>A young couple decides to elope after being caught in th ...</td>\n",
       "        </tr>\n",
       "    </tbody>\n",
       "</table>\n",
       "<p>... (1643 rows omitted)</p>"
      ],
      "text/plain": [
       "<IPython.core.display.HTML object>"
      ]
     },
     "metadata": {},
     "output_type": "display_data"
    }
   ],
   "source": [
    "def acceptable_genre(entry):\n",
    "    acceptable_genres = make_array('action', 'adventure', 'comedy', 'drama', 'fantasy', 'historical', 'horror', \n",
    "                        'romance', 'science fiction', 'thriller')\n",
    "    for genre in acceptable_genres:\n",
    "        if genre in entry:\n",
    "            return True\n",
    "    return False\n",
    "\n",
    "filtered_movies = movies.where('Genre', acceptable_genre)\n",
    "filtered_movies.show(5)"
   ]
  },
  {
   "cell_type": "markdown",
   "metadata": {},
   "source": []
  },
  {
   "cell_type": "code",
   "execution_count": 14,
   "metadata": {},
   "outputs": [],
   "source": [
    "def superfluous_text(entry):\n",
    "    acceptable_genres = make_array('action', 'adventure', 'comedy', 'drama', 'fantasy', 'historical', 'horror', \n",
    "                        'romance', 'science fiction', 'thriller')\n",
    "    for genre in acceptable_genres:\n",
    "        if genre == entry:\n",
    "            return False\n",
    "    return True"
   ]
  },
  {
   "cell_type": "markdown",
   "metadata": {},
   "source": []
  },
  {
   "cell_type": "code",
   "execution_count": 15,
   "metadata": {},
   "outputs": [],
   "source": [
    "def determine_genre(entry):\n",
    "    acceptable_genres = make_array('action', 'adventure', 'comedy', 'drama', 'fantasy', 'historical', 'horror', \n",
    "                        'romance', 'science fiction', 'thriller')\n",
    "\n",
    "    if not superfluous_text(entry):\n",
    "        return entry\n",
    "    for c in entry:\n",
    "        if c not in string.ascii_lowercase:\n",
    "            genre = entry.replace(c, '')\n",
    "    try:\n",
    "        genre = genre.split(' ')\n",
    "    except UnboundLocalError:\n",
    "        genre = entry.split(' ')\n",
    "\n",
    "    i = -1\n",
    "    new_genre = ''\n",
    "    while new_genre not in acceptable_genres:\n",
    "        try:\n",
    "            genre = genre[i]\n",
    "        except IndexError:\n",
    "            new_genre = ''\n",
    "            return new_genre\n",
    "        if genre not in acceptable_genres:\n",
    "            i -= 1\n",
    "\n",
    "    return new_genre"
   ]
  },
  {
   "cell_type": "markdown",
   "metadata": {},
   "source": []
  },
  {
   "cell_type": "code",
   "execution_count": 16,
   "metadata": {},
   "outputs": [
    {
     "data": {
      "text/html": [
       "<table border=\"1\" class=\"dataframe\">\n",
       "    <thead>\n",
       "        <tr>\n",
       "            <th>Plot</th> <th>Genre</th>\n",
       "        </tr>\n",
       "    </thead>\n",
       "    <tbody>\n",
       "        <tr>\n",
       "            <td>Before heading out to a baseball game at a nearby ballpa ...</td> <td>comedy</td>\n",
       "        </tr>\n",
       "        <tr>\n",
       "            <td>The plot is that of a black woman going to the dentist f ...</td> <td>comedy</td>\n",
       "        </tr>\n",
       "        <tr>\n",
       "            <td>On a beautiful summer day a father and mother take their ...</td> <td>drama </td>\n",
       "        </tr>\n",
       "        <tr>\n",
       "            <td>A thug accosts a girl as she leaves her workplace but a  ...</td> <td>drama </td>\n",
       "        </tr>\n",
       "        <tr>\n",
       "            <td>A young couple decides to elope after being caught in th ...</td> <td>comedy</td>\n",
       "        </tr>\n",
       "    </tbody>\n",
       "</table>\n",
       "<p>... (1168 rows omitted)</p>"
      ],
      "text/plain": [
       "<IPython.core.display.HTML object>"
      ]
     },
     "metadata": {},
     "output_type": "display_data"
    }
   ],
   "source": [
    "def change_genres(tbl):\n",
    "    new_genres = np.array([])\n",
    "    for entry in tbl.column('Genre'):\n",
    "        new_genre = determine_genre(entry)\n",
    "        new_genres = np.append(new_genres, new_genre)\n",
    "    \n",
    "    new_tbl = tbl.drop('Genre').with_column('Genre', new_genres).where('Genre', are.not_equal_to(''))\n",
    "    \n",
    "    return new_tbl\n",
    "\n",
    "filtered_genres = change_genres(filtered_movies)\n",
    "filtered_genres.show(5)"
   ]
  },
  {
   "cell_type": "markdown",
   "metadata": {},
   "source": []
  },
  {
   "cell_type": "code",
   "execution_count": 17,
   "metadata": {},
   "outputs": [
    {
     "data": {
      "text/html": [
       "<table border=\"1\" class=\"dataframe\">\n",
       "    <thead>\n",
       "        <tr>\n",
       "            <th>Genre</th> <th>Plot</th>\n",
       "        </tr>\n",
       "    </thead>\n",
       "    <tbody>\n",
       "        <tr>\n",
       "            <td>comedy</td> <td>before heading out to a baseball game at a nearby ballpa ...</td>\n",
       "        </tr>\n",
       "        <tr>\n",
       "            <td>comedy</td> <td>the plot is that of a black woman going to the dentist f ...</td>\n",
       "        </tr>\n",
       "        <tr>\n",
       "            <td>drama </td> <td>on a beautiful summer day a father and mother take their ...</td>\n",
       "        </tr>\n",
       "        <tr>\n",
       "            <td>drama </td> <td>a thug accosts a girl as she leaves her workplace but a  ...</td>\n",
       "        </tr>\n",
       "        <tr>\n",
       "            <td>comedy</td> <td>a young couple decides to elope after being caught in th ...</td>\n",
       "        </tr>\n",
       "    </tbody>\n",
       "</table>\n",
       "<p>... (1168 rows omitted)</p>"
      ],
      "text/plain": [
       "<IPython.core.display.HTML object>"
      ]
     },
     "metadata": {},
     "output_type": "display_data"
    }
   ],
   "source": [
    "def clean_string(s):\n",
    "    for c in s:\n",
    "        if c not in string.ascii_letters + ' ':\n",
    "            s = s.replace(c, '')\n",
    "        elif c in string.ascii_uppercase:\n",
    "            i = string.ascii_uppercase.index(c)\n",
    "            s = s.replace(c, string.ascii_lowercase[i])\n",
    "    return s\n",
    "\n",
    "def clean_plots(tbl):\n",
    "    cleaned_strings = []\n",
    "    for row in tbl.rows:\n",
    "        cleaned_string = clean_string(row.item('Plot'))\n",
    "        cleaned_strings += [cleaned_string]\n",
    "    \n",
    "    return tbl.drop('Plot').with_column('Plot', cleaned_strings)\n",
    "\n",
    "cleaned_plots = clean_plots(filtered_genres)\n",
    "cleaned_plots.show(5)"
   ]
  },
  {
   "cell_type": "markdown",
   "metadata": {},
   "source": []
  }
 ],
 "metadata": {
  "kernelspec": {
   "display_name": "Python 3",
   "language": "python",
   "name": "python3"
  },
  "language_info": {
   "codemirror_mode": {
    "name": "ipython",
    "version": 3
   },
   "file_extension": ".py",
   "mimetype": "text/x-python",
   "name": "python",
   "nbconvert_exporter": "python",
   "pygments_lexer": "ipython3",
   "version": "3.6.5"
  }
 },
 "nbformat": 4,
 "nbformat_minor": 2
}
