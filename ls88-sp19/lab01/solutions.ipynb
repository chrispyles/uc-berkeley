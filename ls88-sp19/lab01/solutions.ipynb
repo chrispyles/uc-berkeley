{
 "cells": [
  {
   "cell_type": "markdown",
   "metadata": {},
   "source": [
    "# L&S 88 - Lab 1 - SOLUTIONS\n",
    "_Lab created by Chris Pyles, data set from [Kaggle](https://www.kaggle.com/jrobischon/wikipedia-movie-plots)_\n",
    "\n",
    "In this L&S 88 lab, we will explore the Jupyter environment and think about questions of reproducibility. As we discussed this week and last week, reproducibility is one of the most important aspects of data science; further, we talked about how annotating code and displaying results in a format that makes it accessible and which allows others to use different technologies to recreate your process is of paramount importance.\n",
    "\n",
    "For this lab, we will be taking these ideas and applying them to a dataset that has had some work done on it already. In this notebook, we have loaded a data set that contains information about movies. This notebook contains code that _cleans_ the data; that is, it puts it into a format that can be used to answer a data-driven question. **Your assignment will be to fill in the Markdown cells in this notebook so that the code in each cell has an explanation for its methodology.** In order to help you with this, we will provide you with the question that we are using the data set to answer:\n",
    "\n",
    "---\n",
    "\n",
    "### The Question\n",
    "The first part of developing a data-driven project is to decide what question you want to answer. The question needs to be specific, and it needs to be something you can develop a step-by-step approach for. With this notebook, I am going to use the `movies` Table to answer the following question:\n",
    "> Can we predict the genre of a movie based on its synopsis?\n",
    "\n",
    "It will take a few steps to answer this question. The main methodology will be to create a test set and determine the frequency of different words in synopses within different genres, and then develop a $k$-nearest neighbors classifier based on this information. The over-arching workflow will look something like this:\n",
    "1. Data preprocessing\n",
    "2. Group movies by genre and look for recurring words in plots\n",
    "3. Write a $k$-nearest neighbor classifier\n",
    "4. Test the classifier and determine its accuracy\n",
    "\n",
    "---\n",
    "\n",
    "Again, this notebook only focuses on Step 1 above, the data preprocessing (cleaning). Whenever you see a cell that looks like this:"
   ]
  },
  {
   "cell_type": "markdown",
   "metadata": {},
   "source": [
    "double click it to edit and fill in the cell with Markdown to describe what is happening in the code cell below it. For the last Markdown cell, write a little conclusion about each step we went through and the overarching process of data cleaning.\n",
    "\n",
    "In this notebook, there is some Python syntax that some of you may not be familiar with. A few times in the cells below, you will see something that looks like this:\n",
    "\n",
    "```python\n",
    "try:\n",
    "    <try_expression>\n",
    "except <error>:\n",
    "    <error_expression>\n",
    "```\n",
    "\n",
    "These blocks tell Python to attempt the `<try_expression>` and if the error `<error>` is thrown, then to execute the `<error_expression>`. Below is a quick example of how these are used. In the first block, `x` is not defined, so a `NameError` is thrown, resulting in the `except` statement being run. In between the blocks, `x` is defined, so when the second block runs, the value assigned to `x` will be printed and, since no error is thrown, the `except` statement is not run."
   ]
  },
  {
   "cell_type": "code",
   "execution_count": 1,
   "metadata": {},
   "outputs": [
    {
     "name": "stdout",
     "output_type": "stream",
     "text": [
      "x is not defined, so this is printed\n",
      "2\n"
     ]
    }
   ],
   "source": [
    "try:\n",
    "    print(x)\n",
    "except NameError:\n",
    "    print(\"x is not defined, so this is printed\")\n",
    "    \n",
    "x = 2\n",
    "\n",
    "try:\n",
    "    print(x)\n",
    "except NameError:\n",
    "    print(\"this won't be printed, because x is defined now\")"
   ]
  },
  {
   "cell_type": "markdown",
   "metadata": {},
   "source": [
    "If you run into any more Python expressions you're unfamiliar with, ask one of us or check out the [Python docs](https://docs.python.org/3/) (although it may be more helpful to Google the method, instead of sifting through the documentation).\n",
    "\n",
    "With regards to Markdown, we'll cover a more in-depth introduction to it later, but here are the basics: use underscores to _italicize_ (`_italicize_`) and double asterisks to **bolden** (`**bolden**`). Create ordered list by beginning each line with a number and a period:\n",
    "1. `1.`\n",
    "2. `2.` etc.\n",
    "\n",
    "and unordered lists with asterisks:\n",
    "* `*`\n",
    "* `*` etc.\n",
    "\n",
    "If you have any other Markdown questions, let us know and we can help with the syntax. Get into groups, get working, and good luck!\n",
    "\n",
    "---"
   ]
  },
  {
   "cell_type": "markdown",
   "metadata": {},
   "source": [
    "**EXAMPLE**\n",
    "\n",
    "* import `datascience`, `numpy`, and `string` libraries\n",
    "* load the `movies` Table from `movie_plots.csv`"
   ]
  },
  {
   "cell_type": "code",
   "execution_count": 2,
   "metadata": {},
   "outputs": [
    {
     "data": {
      "text/html": [
       "<table border=\"1\" class=\"dataframe\">\n",
       "    <thead>\n",
       "        <tr>\n",
       "            <th>Release Year</th> <th>Title</th> <th>Origin/Ethnicity</th> <th>Director</th> <th>Cast</th> <th>Genre</th> <th>Wiki Page</th> <th>Plot</th>\n",
       "        </tr>\n",
       "    </thead>\n",
       "    <tbody>\n",
       "        <tr>\n",
       "            <td>1903        </td> <td>Alice in Wonderland            </td> <td>American        </td> <td>Cecil Hepworth                         </td> <td>May Clark                        </td> <td>unknown     </td> <td>https://en.wikipedia.org/wiki/Alice_in_Wonderland_(1903_ ...</td> <td>Alice follows a large white rabbit down a \"Rabbit-hole\". ...</td>\n",
       "        </tr>\n",
       "        <tr>\n",
       "            <td>1907        </td> <td>Daniel Boone                   </td> <td>American        </td> <td>Wallace McCutcheon and Ediwin S. Porter</td> <td>William Craven, Florence Lawrence</td> <td>biographical</td> <td>https://en.wikipedia.org/wiki/Daniel_Boone_(1907_film)      </td> <td>Boone's daughter befriends an Indian maiden as Boone and ...</td>\n",
       "        </tr>\n",
       "        <tr>\n",
       "            <td>1907        </td> <td>How Brown Saw the Baseball Game</td> <td>American        </td> <td>Unknown                                </td> <td>Unknown                          </td> <td>comedy      </td> <td>https://en.wikipedia.org/wiki/How_Brown_Saw_the_Baseball ...</td> <td>Before heading out to a baseball game at a nearby ballpa ...</td>\n",
       "        </tr>\n",
       "        <tr>\n",
       "            <td>1907        </td> <td>Laughing Gas                   </td> <td>American        </td> <td>Edwin Stanton Porter                   </td> <td>Bertha Regustus, Edward Boulden  </td> <td>comedy      </td> <td>https://en.wikipedia.org/wiki/Laughing_Gas_(film)#1907_Film </td> <td>The plot is that of a black woman going to the dentist f ...</td>\n",
       "        </tr>\n",
       "        <tr>\n",
       "            <td>1908        </td> <td>The Adventures of Dollie       </td> <td>American        </td> <td>D. W. Griffith                         </td> <td>Arthur V. Johnson, Linda Arvidson</td> <td>drama       </td> <td>https://en.wikipedia.org/wiki/The_Adventures_of_Dollie      </td> <td>On a beautiful summer day a father and mother take their ...</td>\n",
       "        </tr>\n",
       "    </tbody>\n",
       "</table>\n",
       "<p>... (19236 rows omitted)</p>"
      ],
      "text/plain": [
       "<IPython.core.display.HTML object>"
      ]
     },
     "metadata": {},
     "output_type": "display_data"
    }
   ],
   "source": [
    "from datascience import *\n",
    "import numpy as np\n",
    "import string\n",
    "\n",
    "movies = Table.read_table('movie_plots.csv')\n",
    "movies.show(5)"
   ]
  },
  {
   "cell_type": "markdown",
   "metadata": {},
   "source": [
    "We have 19,241 rows, so the next thing to look at is what kinds of values we have in the DataFrame. Since we're focusing on the genre and plot, we can remove columns with irrelevant information:"
   ]
  },
  {
   "cell_type": "code",
   "execution_count": 3,
   "metadata": {},
   "outputs": [
    {
     "data": {
      "text/html": [
       "<table border=\"1\" class=\"dataframe\">\n",
       "    <thead>\n",
       "        <tr>\n",
       "            <th>Genre</th> <th>Plot</th>\n",
       "        </tr>\n",
       "    </thead>\n",
       "    <tbody>\n",
       "        <tr>\n",
       "            <td>unknown     </td> <td>Alice follows a large white rabbit down a \"Rabbit-hole\". ...</td>\n",
       "        </tr>\n",
       "        <tr>\n",
       "            <td>biographical</td> <td>Boone's daughter befriends an Indian maiden as Boone and ...</td>\n",
       "        </tr>\n",
       "        <tr>\n",
       "            <td>comedy      </td> <td>Before heading out to a baseball game at a nearby ballpa ...</td>\n",
       "        </tr>\n",
       "        <tr>\n",
       "            <td>comedy      </td> <td>The plot is that of a black woman going to the dentist f ...</td>\n",
       "        </tr>\n",
       "        <tr>\n",
       "            <td>drama       </td> <td>On a beautiful summer day a father and mother take their ...</td>\n",
       "        </tr>\n",
       "    </tbody>\n",
       "</table>\n",
       "<p>... (19236 rows omitted)</p>"
      ],
      "text/plain": [
       "<IPython.core.display.HTML object>"
      ]
     },
     "metadata": {},
     "output_type": "display_data"
    }
   ],
   "source": [
    "movies = movies.select('Genre', 'Plot')\n",
    "movies.show(5)"
   ]
  },
  {
   "cell_type": "markdown",
   "metadata": {},
   "source": [
    "#### Data Exploration and Accptable Genres\n",
    "Now we need to see what kinds of data we have in the set. We begin by showing what the values in the `Genre` column of the DataFrame are:"
   ]
  },
  {
   "cell_type": "code",
   "execution_count": 4,
   "metadata": {},
   "outputs": [
    {
     "data": {
      "text/html": [
       "<table border=\"1\" class=\"dataframe\">\n",
       "    <thead>\n",
       "        <tr>\n",
       "            <th>Genre</th> <th>count</th>\n",
       "        </tr>\n",
       "    </thead>\n",
       "    <tbody>\n",
       "        <tr>\n",
       "            <td> usa                       </td> <td>1    </td>\n",
       "        </tr>\n",
       "        <tr>\n",
       "            <td> usa, can                  </td> <td>1    </td>\n",
       "        </tr>\n",
       "        <tr>\n",
       "            <td>16 mm film                 </td> <td>1    </td>\n",
       "        </tr>\n",
       "        <tr>\n",
       "            <td>action                     </td> <td>520  </td>\n",
       "        </tr>\n",
       "        <tr>\n",
       "            <td>action / adventure         </td> <td>1    </td>\n",
       "        </tr>\n",
       "        <tr>\n",
       "            <td>action / adventure / comedy</td> <td>1    </td>\n",
       "        </tr>\n",
       "        <tr>\n",
       "            <td>action / comedy            </td> <td>1    </td>\n",
       "        </tr>\n",
       "        <tr>\n",
       "            <td>action / crime / drama     </td> <td>1    </td>\n",
       "        </tr>\n",
       "        <tr>\n",
       "            <td>action / drama             </td> <td>2    </td>\n",
       "        </tr>\n",
       "        <tr>\n",
       "            <td>action / drama / war       </td> <td>1    </td>\n",
       "        </tr>\n",
       "    </tbody>\n",
       "</table>\n",
       "<p>... (885 rows omitted)</p>"
      ],
      "text/plain": [
       "Genre                       | count\n",
       " usa                        | 1\n",
       " usa, can                   | 1\n",
       "16 mm film                  | 1\n",
       "action                      | 520\n",
       "action / adventure          | 1\n",
       "action / adventure / comedy | 1\n",
       "action / comedy             | 1\n",
       "action / crime / drama      | 1\n",
       "action / drama              | 2\n",
       "action / drama / war        | 1\n",
       "... (885 rows omitted)"
      ]
     },
     "execution_count": 4,
     "metadata": {},
     "output_type": "execute_result"
    }
   ],
   "source": [
    "movies.group('Genre')"
   ]
  },
  {
   "cell_type": "markdown",
   "metadata": {},
   "source": [
    "It looks like there's lots of different values in the column (2,210 to be exact). But for this question, we're really only interested in the basic genres of movies: action, adventure, comedy, drama, fantasy, historical, horror, romance, science fiction, and thriller.\n",
    "\n",
    "To this end, we will define a function that will read through the `Genre` entry in each row and categorize them as one of the above. This process has a few steps:\n",
    "1. Define a function that will determine if any of the above words are present in the entry\n",
    "2. Filter `movies` for such rows\n",
    "3. Change the entry for `Genre` to one of the above for each row left if entry is not one of the above"
   ]
  },
  {
   "cell_type": "code",
   "execution_count": 5,
   "metadata": {},
   "outputs": [
    {
     "data": {
      "text/html": [
       "<table border=\"1\" class=\"dataframe\">\n",
       "    <thead>\n",
       "        <tr>\n",
       "            <th>Genre</th> <th>Plot</th>\n",
       "        </tr>\n",
       "    </thead>\n",
       "    <tbody>\n",
       "        <tr>\n",
       "            <td>comedy</td> <td>Before heading out to a baseball game at a nearby ballpa ...</td>\n",
       "        </tr>\n",
       "        <tr>\n",
       "            <td>comedy</td> <td>The plot is that of a black woman going to the dentist f ...</td>\n",
       "        </tr>\n",
       "        <tr>\n",
       "            <td>drama </td> <td>On a beautiful summer day a father and mother take their ...</td>\n",
       "        </tr>\n",
       "        <tr>\n",
       "            <td>drama </td> <td>A thug accosts a girl as she leaves her workplace but a  ...</td>\n",
       "        </tr>\n",
       "        <tr>\n",
       "            <td>comedy</td> <td>A young couple decides to elope after being caught in th ...</td>\n",
       "        </tr>\n",
       "    </tbody>\n",
       "</table>\n",
       "<p>... (14411 rows omitted)</p>"
      ],
      "text/plain": [
       "<IPython.core.display.HTML object>"
      ]
     },
     "metadata": {},
     "output_type": "display_data"
    }
   ],
   "source": [
    "# Step 1:\n",
    "def acceptable_genre(entry):\n",
    "    acceptable_genres = make_array('action', 'adventure', 'comedy', 'drama', 'fantasy', 'historical', 'horror', \n",
    "                        'romance', 'science fiction', 'thriller')\n",
    "    for genre in acceptable_genres:\n",
    "        if genre in entry:\n",
    "            return True\n",
    "    return False\n",
    "\n",
    "# Step 2:\n",
    "filtered_movies = movies.where('Genre', acceptable_genre)\n",
    "filtered_movies.show(5)"
   ]
  },
  {
   "cell_type": "markdown",
   "metadata": {},
   "source": [
    "In order to accomplish Step 3, we need to develop a few helper functions. Mainly, we need to comb each `Genre` entry in `filtered_movies` do the following:\n",
    "1. Check if it is an exact match for something in `acceptable_genres`\n",
    "2. If it is not, then use a heuristic to determine which genre it is a part of\n",
    "3. Apply this function to each row of the DataFrame\n",
    "\n",
    "For Step 3.1, we define the function `superfluous_text` which returns a Boolean value corresponding to whether or not there are extra characters beyond an entry in `accaptable_genres`."
   ]
  },
  {
   "cell_type": "code",
   "execution_count": 6,
   "metadata": {},
   "outputs": [],
   "source": [
    "# Step 3.1:\n",
    "def superfluous_text(entry):\n",
    "    acceptable_genres = make_array('action', 'adventure', 'comedy', 'drama', 'fantasy', 'historical', 'horror', \n",
    "                        'romance', 'science fiction', 'thriller')\n",
    "    for genre in acceptable_genres:\n",
    "        if genre == entry:\n",
    "            return False\n",
    "    return True"
   ]
  },
  {
   "cell_type": "markdown",
   "metadata": {},
   "source": [
    "For Step 3.2, we take entries for which `superfluous_text` returns `True` and use a heuristic to determine which is the most accurate genre they fall under. The heuristic that we use is that the last word is likely the most general genre (i.e. the noun without any modifiers). In this way, `'historical drama'` would become `'drama'` or `'action comedy'` would become `'comedy'`.\n",
    "\n",
    "The function `determine_genre` looks for words starting from the last word and going to the first until it finds an entry in `acceptable_genres`. If no such word exists, then an empty string, `''`, is inserted instead."
   ]
  },
  {
   "cell_type": "code",
   "execution_count": 7,
   "metadata": {},
   "outputs": [],
   "source": [
    "# Step 3.2:\n",
    "def determine_genre(entry):\n",
    "    acceptable_genres = make_array('action', 'adventure', 'comedy', 'drama', 'fantasy', 'historical', 'horror', \n",
    "                        'romance', 'science fiction', 'thriller')\n",
    "\n",
    "    if not superfluous_text(entry):\n",
    "        return entry\n",
    "    for c in entry:\n",
    "        if c not in string.ascii_lowercase:\n",
    "            genre = entry.replace(c, '')\n",
    "    try:\n",
    "        genre = genre.split(' ')\n",
    "    except UnboundLocalError:\n",
    "        genre = entry.split(' ')\n",
    "\n",
    "    i = -1\n",
    "    new_genre = ''\n",
    "    while new_genre not in acceptable_genres:\n",
    "        try:\n",
    "            genre = genre[i]\n",
    "        except IndexError:\n",
    "            new_genre = ''\n",
    "            return new_genre\n",
    "        if genre not in acceptable_genres:\n",
    "            i -= 1\n",
    "\n",
    "    return new_genre"
   ]
  },
  {
   "cell_type": "markdown",
   "metadata": {},
   "source": [
    "Finally, for Step 3.3, the function `change_genres` takes a DataFrame as its argument and goes through the `Genre` column to replace the original `Genre` with the result of `determine_genre`. Then a new DataFrame is generated by copying the one passed as the argument and dropping the original `Genre` column and replacing it with a new `Genre` column. Then it filters out rows where the empty string `''` was inserted instead of a genre."
   ]
  },
  {
   "cell_type": "code",
   "execution_count": 8,
   "metadata": {},
   "outputs": [
    {
     "data": {
      "text/html": [
       "<table border=\"1\" class=\"dataframe\">\n",
       "    <thead>\n",
       "        <tr>\n",
       "            <th>Plot</th> <th>Genre</th>\n",
       "        </tr>\n",
       "    </thead>\n",
       "    <tbody>\n",
       "        <tr>\n",
       "            <td>Before heading out to a baseball game at a nearby ballpa ...</td> <td>comedy</td>\n",
       "        </tr>\n",
       "        <tr>\n",
       "            <td>The plot is that of a black woman going to the dentist f ...</td> <td>comedy</td>\n",
       "        </tr>\n",
       "        <tr>\n",
       "            <td>On a beautiful summer day a father and mother take their ...</td> <td>drama </td>\n",
       "        </tr>\n",
       "        <tr>\n",
       "            <td>A thug accosts a girl as she leaves her workplace but a  ...</td> <td>drama </td>\n",
       "        </tr>\n",
       "        <tr>\n",
       "            <td>A young couple decides to elope after being caught in th ...</td> <td>comedy</td>\n",
       "        </tr>\n",
       "    </tbody>\n",
       "</table>\n",
       "<p>... (14411 rows omitted)</p>"
      ],
      "text/plain": [
       "<IPython.core.display.HTML object>"
      ]
     },
     "metadata": {},
     "output_type": "display_data"
    }
   ],
   "source": [
    "# Step 3.3:\n",
    "def change_genres(tbl):\n",
    "    new_genres = np.array([])\n",
    "    for entry in tbl.column('Genre'):\n",
    "        new_genre = determine_genre(entry)\n",
    "        new_genres = np.append(new_genres, new_genre)\n",
    "    \n",
    "    new_tbl = tbl.drop('Genre').with_column('Genre', new_genres)\n",
    "    \n",
    "    return new_tbl\n",
    "\n",
    "filtered_genres = change_genres(filtered_movies)\n",
    "filtered_genres.show(5)"
   ]
  },
  {
   "cell_type": "markdown",
   "metadata": {},
   "source": [
    "#### Cleaning Plot Strings\n",
    "Now that we have sorted the genres of each movie in the DataFrame, we look now to format the `Plot` column so that it can be more easily analyzed. In the cell below, the function `clean_string` is defined, which removes all characters that are not letters from a string and makes all letters lowercase. Then the function `clean_plots` is defined, which takes a DataFrame as its parameter and goes through each `Plot` entry and cleans the string there, returning a new DataFrame with cleaned plot strings."
   ]
  },
  {
   "cell_type": "code",
   "execution_count": 9,
   "metadata": {},
   "outputs": [
    {
     "data": {
      "text/html": [
       "<table border=\"1\" class=\"dataframe\">\n",
       "    <thead>\n",
       "        <tr>\n",
       "            <th>Genre</th> <th>Plot</th>\n",
       "        </tr>\n",
       "    </thead>\n",
       "    <tbody>\n",
       "        <tr>\n",
       "            <td>comedy</td> <td>before heading out to a baseball game at a nearby ballpa ...</td>\n",
       "        </tr>\n",
       "        <tr>\n",
       "            <td>comedy</td> <td>the plot is that of a black woman going to the dentist f ...</td>\n",
       "        </tr>\n",
       "        <tr>\n",
       "            <td>drama </td> <td>on a beautiful summer day a father and mother take their ...</td>\n",
       "        </tr>\n",
       "        <tr>\n",
       "            <td>drama </td> <td>a thug accosts a girl as she leaves her workplace but a  ...</td>\n",
       "        </tr>\n",
       "        <tr>\n",
       "            <td>comedy</td> <td>a young couple decides to elope after being caught in th ...</td>\n",
       "        </tr>\n",
       "    </tbody>\n",
       "</table>\n",
       "<p>... (14411 rows omitted)</p>"
      ],
      "text/plain": [
       "<IPython.core.display.HTML object>"
      ]
     },
     "metadata": {},
     "output_type": "display_data"
    }
   ],
   "source": [
    "def clean_string(s):\n",
    "    for c in s:\n",
    "        if c not in string.ascii_letters + ' ':\n",
    "            s = s.replace(c, '')\n",
    "        elif c in string.ascii_uppercase:\n",
    "            i = string.ascii_uppercase.index(c)\n",
    "            s = s.replace(c, string.ascii_lowercase[i])\n",
    "    return s\n",
    "\n",
    "def clean_plots(tbl):\n",
    "    cleaned_strings = []\n",
    "    for row in tbl.rows:\n",
    "        cleaned_string = clean_string(row.item('Plot'))\n",
    "        cleaned_strings += [cleaned_string]\n",
    "    \n",
    "    return tbl.drop('Plot').with_column('Plot', cleaned_strings)\n",
    "\n",
    "cleaned_plots = clean_plots(filtered_genres)\n",
    "cleaned_plots.show(5)"
   ]
  },
  {
   "cell_type": "markdown",
   "metadata": {},
   "source": [
    "## Conclusions\n",
    "..."
   ]
  }
 ],
 "metadata": {
  "kernelspec": {
   "display_name": "Python 3",
   "language": "python",
   "name": "python3"
  },
  "language_info": {
   "codemirror_mode": {
    "name": "ipython",
    "version": 3
   },
   "file_extension": ".py",
   "mimetype": "text/x-python",
   "name": "python",
   "nbconvert_exporter": "python",
   "pygments_lexer": "ipython3",
   "version": "3.6.5"
  }
 },
 "nbformat": 4,
 "nbformat_minor": 2
}
