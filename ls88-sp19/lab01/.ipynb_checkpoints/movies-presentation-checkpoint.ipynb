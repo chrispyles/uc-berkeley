{
 "cells": [
  {
   "cell_type": "markdown",
   "metadata": {
    "slideshow": {
     "slide_type": "slide"
    }
   },
   "source": [
    "# L&S 88 - Lab 1\n",
    "_Lab created by Chris Pyles, data set from [Kaggle](https://www.kaggle.com/jrobischon/wikipedia-movie-plots)_\n",
    "\n",
    "In this L&S 88 lab, we will explore the Jupyter environment and think about questions of reproducibility. As we discussed this week and last week, reproducibility is one of the most important aspects of data science; further, we talked about how annotating code and displaying results in a format that makes it accessible and which allows others to use different technologies to recreate your process is of paramount importance.\n",
    "\n",
    "For this lab, we will be taking these ideas and applying them to a dataset that has had some work done on it already. In this notebook, we have loaded a data set that contains information about movies. This notebook contains code that _cleans_ the data; that is, it puts it into a format that can be used to answer a data-driven question. **Your assignment will be to fill in the Markdown cells in this notebook so that the code in each cell has an explanation for its methodology.** In order to help you with this, we will provide you with the question that we are using the data set to answer:"
   ]
  },
  {
   "cell_type": "markdown",
   "metadata": {
    "slideshow": {
     "slide_type": "slide"
    }
   },
   "source": [
    "\n",
    "---\n",
    "\n",
    "### The Question\n",
    "The first part of developing a data-driven project is to decide what question you want to answer. The question needs to be specific, and it needs to be something you can develop a step-by-step approach for. With this notebook, I am going to use the `movies` Table to answer the following question:\n",
    "> Can we predict the genre of a movie based on its synopsis?\n",
    "\n",
    "It will take a few steps to answer this question. The main methodology will be to create a test set and determine the frequency of different words in synopses within different genres, and then develop a $k$-nearest neighbors classifier based on this information. The over-arching workflow will look something like this:\n",
    "1. Data preprocessing\n",
    "2. Group movies by genre and look for recurring words in plots\n",
    "3. Write a $k$-nearest neighbor classifier\n",
    "4. Test the classifier and determine its accuracy\n",
    "\n",
    "---\n",
    "\n"
   ]
  },
  {
   "cell_type": "markdown",
   "metadata": {
    "slideshow": {
     "slide_type": "slide"
    }
   },
   "source": [
    "Again, this notebook only focuses on Step 1, the data preprocessing (cleaning). Whenever you see a cell that looks like this:\n",
    "\n",
    "---\n",
    "\n",
    "Type _Markdown_ and LaTeX: $\\alpha^2$\n",
    "\n",
    "---\n",
    "\n",
    "double click it to edit and fill in the cell with Markdown to describe what is happening in the code cell below it. _Explain any assumptions made in the cell and any heuristics used._ For the last Markdown cell, write a little conclusion about each step we went through and the overarching process of data cleaning."
   ]
  },
  {
   "cell_type": "markdown",
   "metadata": {
    "slideshow": {
     "slide_type": "slide"
    }
   },
   "source": [
    "In this notebook, there is some Python syntax that some of you may not be familiar with. A few times in the cells below, you will see something that looks like this:\n",
    "\n",
    "```python\n",
    "try:\n",
    "    <try_expression>\n",
    "except <error>:\n",
    "    <error_expression>\n",
    "```\n",
    "\n",
    "These blocks tell Python to attempt the `<try_expression>` and if the error `<error>` is thrown, then to execute the `<error_expression>`. Below is a quick example of how these are used. In the first block, `x` is not defined, so a `NameError` is thrown, resulting in the `except` statement being run. In between the blocks, `x` is defined, so when the second block runs, the value assigned to `x` will be printed and, since no error is thrown, the `except` statement is not run."
   ]
  },
  {
   "cell_type": "code",
   "execution_count": null,
   "metadata": {
    "slideshow": {
     "slide_type": "fragment"
    }
   },
   "outputs": [],
   "source": [
    "try:\n",
    "    print(x)\n",
    "except NameError:\n",
    "    print(\"x is not defined, so this is printed\")\n",
    "    \n",
    "x = 2\n",
    "\n",
    "try:\n",
    "    print(x)\n",
    "except NameError:\n",
    "    print(\"this won't be printed, because x is defined now\")"
   ]
  },
  {
   "cell_type": "markdown",
   "metadata": {
    "slideshow": {
     "slide_type": "slide"
    }
   },
   "source": [
    "If you run into any more Python expressions you're unfamiliar with, ask one of us or check out the [Python docs](https://docs.python.org/3/) (although it may be more helpful to Google the method, instead of sifting through the documentation).\n",
    "\n",
    "With regards to Markdown, we'll cover a more in-depth introduction to it later, but here are the basics: use underscores to _italicize_ (`_italicize_`) and double asterisks to **bolden** (`**bolden**`). Create ordered list by beginning each line with a number and a period:\n",
    "1. `1.`\n",
    "2. `2.` etc.\n",
    "\n",
    "and unordered lists with asterisks:\n",
    "* `*`\n",
    "* `*` etc.\n",
    "\n",
    "To create a hyperlink, encase the visible text in brackets and the link in parentheses immediately after. For example, the link [Google](https://google.com) is coded as `[Google](https://google.com)`. If you have any other Markdown questions, let us know and we can help with the syntax. "
   ]
  },
  {
   "cell_type": "markdown",
   "metadata": {
    "slideshow": {
     "slide_type": "slide"
    }
   },
   "source": [
    "## Some Markdown Best Practices\n",
    "\n",
    "*adapted from [Markdown and Document Structure](https://github.com/chrisvoncsefalvay/jupyter-best-practices/blob/master/01.02-Markdown_and_document_structure.ipynb)*\n",
    "\n",
    "> Notebooks should be divided into parts by headings.\n",
    "\n",
    "Headings are created using `#`:\n",
    "# `#` Heading 1\n",
    "## `##` Heading 2\n",
    "### `###` Heading 3, etc."
   ]
  },
  {
   "cell_type": "markdown",
   "metadata": {
    "slideshow": {
     "slide_type": "slide"
    }
   },
   "source": [
    "Headings assist in navigation, content splitting, and other features of notebooks (e.g. anchoring). \n",
    "\n",
    "> Notebooks shouldn't use more than 3 levels of headings, and individual cells shouldn't contain more than 1 subsection."
   ]
  },
  {
   "cell_type": "markdown",
   "metadata": {
    "slideshow": {
     "slide_type": "fragment"
    }
   },
   "source": [
    "> (For collapsible headings, headings should be in their own cells.)"
   ]
  },
  {
   "cell_type": "markdown",
   "metadata": {
    "slideshow": {
     "slide_type": "fragment"
    }
   },
   "source": [
    "> Unless you're using slides (like me), the Notebook title should be in the Notebook Name, not in a heading cell."
   ]
  },
  {
   "cell_type": "markdown",
   "metadata": {
    "slideshow": {
     "slide_type": "slide"
    }
   },
   "source": [
    "### Let's do the first one together."
   ]
  },
  {
   "cell_type": "markdown",
   "metadata": {
    "slideshow": {
     "slide_type": "-"
    }
   },
   "source": []
  },
  {
   "cell_type": "code",
   "execution_count": null,
   "metadata": {
    "slideshow": {
     "slide_type": "-"
    }
   },
   "outputs": [],
   "source": [
    "from datascience import *\n",
    "import numpy as np\n",
    "import string\n",
    "\n",
    "movies = Table.read_table('movie_plots.csv')\n",
    "movies.show(5)"
   ]
  },
  {
   "cell_type": "markdown",
   "metadata": {
    "slideshow": {
     "slide_type": "fragment"
    }
   },
   "source": [
    "### Get into groups, get working, and good luck!"
   ]
  }
 ],
 "metadata": {
  "celltoolbar": "Slideshow",
  "kernelspec": {
   "display_name": "Python 3",
   "language": "python",
   "name": "python3"
  },
  "language_info": {
   "codemirror_mode": {
    "name": "ipython",
    "version": 3
   },
   "file_extension": ".py",
   "mimetype": "text/x-python",
   "name": "python",
   "nbconvert_exporter": "python",
   "pygments_lexer": "ipython3",
   "version": "3.6.5"
  }
 },
 "nbformat": 4,
 "nbformat_minor": 2
}
