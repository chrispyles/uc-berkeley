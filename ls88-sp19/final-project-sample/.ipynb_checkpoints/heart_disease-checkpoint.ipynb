{
 "cells": [
  {
   "cell_type": "markdown",
   "metadata": {},
   "source": [
    "# Heart Disease UCI\n",
    "This Jupyter Notebook covers the analysis of a dataset on heart disease from [Kaggle](https://www.kaggle.com/ronitf/heart-disease-uci) courtesy of UCI. The documentation for this data set can be found [here](https://archive.ics.uci.edu/ml/datasets/Heart+Disease)."
   ]
  },
  {
   "cell_type": "code",
   "execution_count": 8,
   "metadata": {},
   "outputs": [
    {
     "name": "stderr",
     "output_type": "stream",
     "text": [
      "/Library/Frameworks/Python.framework/Versions/3.6/lib/python3.6/site-packages/datascience/tables.py:132: FutureWarning: read_table is deprecated, use read_csv instead.\n",
      "  df = pandas.read_table(filepath_or_buffer, *args, **vargs)\n"
     ]
    },
    {
     "data": {
      "text/html": [
       "<table border=\"1\" class=\"dataframe\">\n",
       "    <thead>\n",
       "        <tr>\n",
       "            <th>age</th> <th>sex</th> <th>cp</th> <th>trestbps</th> <th>chol</th> <th>fbs</th> <th>restecg</th> <th>thalach</th> <th>exang</th> <th>oldpeak</th> <th>slope</th> <th>ca</th> <th>thal</th> <th>num</th>\n",
       "        </tr>\n",
       "    </thead>\n",
       "    <tbody>\n",
       "        <tr>\n",
       "            <td>63  </td> <td>1   </td> <td>1   </td> <td>145     </td> <td>233 </td> <td>1   </td> <td>2      </td> <td>150    </td> <td>0    </td> <td>2.3    </td> <td>3    </td> <td>0.0 </td> <td>6.0 </td> <td>0   </td>\n",
       "        </tr>\n",
       "        <tr>\n",
       "            <td>67  </td> <td>1   </td> <td>4   </td> <td>160     </td> <td>286 </td> <td>0   </td> <td>2      </td> <td>108    </td> <td>1    </td> <td>1.5    </td> <td>2    </td> <td>3.0 </td> <td>3.0 </td> <td>2   </td>\n",
       "        </tr>\n",
       "        <tr>\n",
       "            <td>67  </td> <td>1   </td> <td>4   </td> <td>120     </td> <td>229 </td> <td>0   </td> <td>2      </td> <td>129    </td> <td>1    </td> <td>2.6    </td> <td>2    </td> <td>2.0 </td> <td>7.0 </td> <td>1   </td>\n",
       "        </tr>\n",
       "        <tr>\n",
       "            <td>37  </td> <td>1   </td> <td>3   </td> <td>130     </td> <td>250 </td> <td>0   </td> <td>0      </td> <td>187    </td> <td>0    </td> <td>3.5    </td> <td>3    </td> <td>0.0 </td> <td>3.0 </td> <td>0   </td>\n",
       "        </tr>\n",
       "        <tr>\n",
       "            <td>41  </td> <td>0   </td> <td>2   </td> <td>130     </td> <td>204 </td> <td>0   </td> <td>2      </td> <td>172    </td> <td>0    </td> <td>1.4    </td> <td>1    </td> <td>0.0 </td> <td>3.0 </td> <td>0   </td>\n",
       "        </tr>\n",
       "        <tr>\n",
       "            <td>56  </td> <td>1   </td> <td>2   </td> <td>120     </td> <td>236 </td> <td>0   </td> <td>0      </td> <td>178    </td> <td>0    </td> <td>0.8    </td> <td>1    </td> <td>0.0 </td> <td>3.0 </td> <td>0   </td>\n",
       "        </tr>\n",
       "        <tr>\n",
       "            <td>62  </td> <td>0   </td> <td>4   </td> <td>140     </td> <td>268 </td> <td>0   </td> <td>2      </td> <td>160    </td> <td>0    </td> <td>3.6    </td> <td>3    </td> <td>2.0 </td> <td>3.0 </td> <td>3   </td>\n",
       "        </tr>\n",
       "        <tr>\n",
       "            <td>57  </td> <td>0   </td> <td>4   </td> <td>120     </td> <td>354 </td> <td>0   </td> <td>0      </td> <td>163    </td> <td>1    </td> <td>0.6    </td> <td>1    </td> <td>0.0 </td> <td>3.0 </td> <td>0   </td>\n",
       "        </tr>\n",
       "        <tr>\n",
       "            <td>63  </td> <td>1   </td> <td>4   </td> <td>130     </td> <td>254 </td> <td>0   </td> <td>2      </td> <td>147    </td> <td>0    </td> <td>1.4    </td> <td>2    </td> <td>1.0 </td> <td>7.0 </td> <td>2   </td>\n",
       "        </tr>\n",
       "        <tr>\n",
       "            <td>53  </td> <td>1   </td> <td>4   </td> <td>140     </td> <td>203 </td> <td>1   </td> <td>2      </td> <td>155    </td> <td>1    </td> <td>3.1    </td> <td>3    </td> <td>0.0 </td> <td>7.0 </td> <td>1   </td>\n",
       "        </tr>\n",
       "    </tbody>\n",
       "</table>\n",
       "<p>... (293 rows omitted)</p>"
      ],
      "text/plain": [
       "age  | sex  | cp   | trestbps | chol | fbs  | restecg | thalach | exang | oldpeak | slope | ca   | thal | num\n",
       "63   | 1    | 1    | 145      | 233  | 1    | 2       | 150     | 0     | 2.3     | 3     | 0.0  | 6.0  | 0\n",
       "67   | 1    | 4    | 160      | 286  | 0    | 2       | 108     | 1     | 1.5     | 2     | 3.0  | 3.0  | 2\n",
       "67   | 1    | 4    | 120      | 229  | 0    | 2       | 129     | 1     | 2.6     | 2     | 2.0  | 7.0  | 1\n",
       "37   | 1    | 3    | 130      | 250  | 0    | 0       | 187     | 0     | 3.5     | 3     | 0.0  | 3.0  | 0\n",
       "41   | 0    | 2    | 130      | 204  | 0    | 2       | 172     | 0     | 1.4     | 1     | 0.0  | 3.0  | 0\n",
       "56   | 1    | 2    | 120      | 236  | 0    | 0       | 178     | 0     | 0.8     | 1     | 0.0  | 3.0  | 0\n",
       "62   | 0    | 4    | 140      | 268  | 0    | 2       | 160     | 0     | 3.6     | 3     | 2.0  | 3.0  | 3\n",
       "57   | 0    | 4    | 120      | 354  | 0    | 0       | 163     | 1     | 0.6     | 1     | 0.0  | 3.0  | 0\n",
       "63   | 1    | 4    | 130      | 254  | 0    | 2       | 147     | 0     | 1.4     | 2     | 1.0  | 7.0  | 2\n",
       "53   | 1    | 4    | 140      | 203  | 1    | 2       | 155     | 1     | 3.1     | 3     | 0.0  | 7.0  | 1\n",
       "... (293 rows omitted)"
      ]
     },
     "execution_count": 8,
     "metadata": {},
     "output_type": "execute_result"
    }
   ],
   "source": [
    "# dependencies\n",
    "from datascience import *\n",
    "import numpy as np\n",
    "import matplotlib.pyplot as plt\n",
    "%matplotlib inline\n",
    "plt.style.use('fivethirtyeight')\n",
    "\n",
    "heart_disease = Table.read_table('processed.cleveland.csv')\n",
    "heart_disease"
   ]
  },
  {
   "cell_type": "markdown",
   "metadata": {},
   "source": [
    "From the documentation for this data set, here is some information about the variables encoded in the table:\n",
    "\n",
    "| Variable | Type | Values | Description |\n",
    "|-----|-----|-----|-----|\n",
    "| `age` | Numerical | `int` | Age in years |\n",
    "| `sex` | Categorical | 0, 1 | 1 = male, 0 = female |\n",
    "| `cp` | Categorical | 1, 2, 3, 4 | 1 = typical angina, 2 = atypical angina, 3 = non-anginal pain, 4 = asymptomatic |\n",
    "| `trestbps` | Numerical | `int` | Resting blood pressure in mmHg on admission to hospital |\n",
    "| `chol` | Numerical | `int` | Serum cholesterol in mg/dl |\n",
    "| `fbs` | Categorical | 0, 1 | Fasting blood sugar > 120 mg/dl; 1 = True, 0 = False |\n",
    "| `restecg` | Categorical | 0, 1, 2 | resting ECG results; 0 = normal, 1 = having ST-T wave abnormality, 2 = showing probably or definite left ventricular hyptertrophy |\n",
    "| `thalach` | Numerical | `int` | Maximum heart rate achieved |\n",
    "| `exang` | Categorical | 0, 1 | Exercise induced angina; 1 = True, 0 = False |\n",
    "| `oldpeak` | Numerical | `float` | ST depression induced by exercise relative to rest |\n",
    "| `slope` | Categorical | 1, 2, 3 | Slope of the peak exercise ST segment; 1 = upsloping, 2 = flat, 3 = downsloping |\n",
    "| `ca` | Numerical | 0, 1, 2, 3 | Number of major vessels colored by flouroscopy |\n",
    "| `thal` | Categorical | 3, 6, 7 | 3 = normal, 6 = fixed defect, 7 = reversable defect |\n",
    "| `num` | Ordinal | 0, 1, 2, 3, 4 | Presence of heart disease in patient; 0 = absent & 1, 2, 3, 4 = present |\n",
    "\n",
    "The goal of this research is to "
   ]
  },
  {
   "cell_type": "code",
   "execution_count": null,
   "metadata": {},
   "outputs": [],
   "source": []
  }
 ],
 "metadata": {
  "kernelspec": {
   "display_name": "Python 3",
   "language": "python",
   "name": "python3"
  },
  "language_info": {
   "codemirror_mode": {
    "name": "ipython",
    "version": 3
   },
   "file_extension": ".py",
   "mimetype": "text/x-python",
   "name": "python",
   "nbconvert_exporter": "python",
   "pygments_lexer": "ipython3",
   "version": "3.6.5"
  }
 },
 "nbformat": 4,
 "nbformat_minor": 2
}
