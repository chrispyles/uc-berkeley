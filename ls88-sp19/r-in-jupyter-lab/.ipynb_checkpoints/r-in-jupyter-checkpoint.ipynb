{
 "cells": [
  {
   "cell_type": "markdown",
   "metadata": {},
   "source": [
    "# L&S 88 - Lab x - R in the Jupyter Environment\n",
    "_Lab created by Chris Pyles_\n",
    "\n",
    "By this point in our discussions of the various technologies involved in the data science community, you should be familiar with the idea that there are multiple tools to do the same job, and that some tools are better at some things than are others. The same is true of programming languages; each has its own strengths and weaknesses, Python included. In order to be a data scientist, it is imperitive that you know multiple languages and how to select the best for the function you are trying to perform.\n",
    "\n",
    "In Chris Holdgraf's presentation on the Jupyter suite, he talked for a minute about how open source languages are coming together with Jupyter to allow you to run different languages all in the same Jupyter notebook. In this lab, we'll pay close attention to this idea, with the intention of introducing you to some of the differences between languages and their strengths. We'll begin by showing you how to set up the aforementioned Jupyter environment and teach you some R, a popular statistics and data science language. The point of this lab is not to learn R, but to think about the different advantages of each language and how to select the right one for the job.\n",
    "\n",
    "Throughout this lab, you may find it useful to consult the [Medium article by Matthias Bussonnier](https://blog.jupyter.org/i-python-you-r-we-julia-baf064ca1fb6) that covers how to run multiple languages in a Jupyter notebook."
   ]
  },
  {
   "cell_type": "markdown",
   "metadata": {},
   "source": [
    "## Part 1: The R Environment\n",
    "Jupyter notebooks come with some handy extensions and commands that will allow you to do things otherwise impossible by running Python or R through an interpreter (e.g. command line, IDLE). Most of these extensions first need to be installed via `pip`, Python's package installer, which is used to install all of the different libraries that you're accustomed to. The package that contains the extenion that will allow us to run R is called `rpy2`. Run the cell below to load the extension and other assorted libraries we will use in this lab."
   ]
  },
  {
   "cell_type": "code",
   "execution_count": null,
   "metadata": {},
   "outputs": [],
   "source": [
    "# if you get an error while running this cell, uncomment the line below and rerun\n",
    "# !pip install rpy2 tzlocal\n",
    "%load_ext rpy2.ipython\n",
    "from datascience import *\n",
    "import numpy as np\n",
    "import matplotlib.pyplot as plt\n",
    "%matplotlib inline\n",
    "plt.style.use('fivethirtyeight')"
   ]
  },
  {
   "cell_type": "markdown",
   "metadata": {},
   "source": [
    "### Running R\n",
    "As mentioned earlier, R is a popular statistics and data science language. People, statisticians especially, like it because it is open source, has an advanced library of statistical functions, and produces great graphs. Although there are aspects of it that will seem unintuitive or hard-to-learn because you have learned Python first, it behooves you to take on R because of its popularity and usefulness.\n",
    "\n",
    "Before you start to learn R, you first need to learn how to run R in a code cell. The `rpy2` extension which we loaded a minute ago will allow this to happen using the magic commands `%R` and `%%R`. The first command tells Jupyter that the line you are running is written in R:"
   ]
  },
  {
   "cell_type": "code",
   "execution_count": null,
   "metadata": {},
   "outputs": [],
   "source": [
    "%R x <- 'this prints using R'\n",
    "%R print(x)\n",
    "x = 'this prints using Python'\n",
    "print(x)"
   ]
  },
  {
   "cell_type": "markdown",
   "metadata": {},
   "source": [
    "You should see two outputs: one prefixed by a number in square brackets, `[1]`, and another below that. R prints out results and includes the output number to make tracking large outputs easier (e.g. 2-D arrays).\n",
    "\n",
    "The other magic command, `%%R`, tells Jupyter that the _whole cell_ is written in R:"
   ]
  },
  {
   "cell_type": "code",
   "execution_count": null,
   "metadata": {},
   "outputs": [],
   "source": [
    "%%R\n",
    "y <- 'this whole cell is in R'\n",
    "print(y)"
   ]
  },
  {
   "cell_type": "markdown",
   "metadata": {},
   "source": [
    "It is important to note that R and Python are two different _environments_; that is, the variables defined within each are separate (but they can be brought over; more on that later). An _environment_ describes everything that is defined in the interpreter that you are running. Each time you create a Jupyter notebook or restart your kernel, you create a new environment. You can add things to the environment by declaring them, e.g.\n",
    "\n",
    "```python\n",
    "x = 1\n",
    "```\n",
    "\n",
    "or by importing them from other libraries (this is how we load the `datascience` library and why those functions are available to you even though you didn't define them). It is because R and Python are two different environments that we can still get two different values of `x` now, because we set one in Python and the other in R:"
   ]
  },
  {
   "cell_type": "code",
   "execution_count": null,
   "metadata": {},
   "outputs": [],
   "source": [
    "%R print(x)\n",
    "print(x)"
   ]
  },
  {
   "cell_type": "markdown",
   "metadata": {},
   "source": [
    "## Part 2: Learning (Basic) R\n",
    "R is a very broad language, with several syntactic differences from Python. For this lab, we'll only introduce you to a small portion of how to write code in R, but there are several other sources from which you can learn; we'll point you to a good one at the end of the lab.\n",
    "\n",
    "One of the most fundamental concepts in a computing language is how we define variables. In R, the assignment operator is `<-`, quite a change from the standard `=`. You assign variables in R as you might think:"
   ]
  },
  {
   "cell_type": "code",
   "execution_count": null,
   "metadata": {},
   "outputs": [],
   "source": [
    "%%R\n",
    "my.var <- 1"
   ]
  },
  {
   "cell_type": "markdown",
   "metadata": {},
   "source": [
    "Note the period in the variable name; while in Python periods have a special significance as ways to access attributes and methods of objects, they don't mean anything in R when included in a variable name. The R convention used to be to separate words in variable names using periods, similar to how we use underscores often in Python, but lately the convention has been shifting more and more to underscores. To alleviate confusion, we'll use underscores in our R variable names for the rest of this lab.\n",
    "\n",
    "**Question 1.** In the cell below, assign a rounded value of $\\pi$ to the variable `pi` in R."
   ]
  },
  {
   "cell_type": "code",
   "execution_count": null,
   "metadata": {},
   "outputs": [],
   "source": [
    "..."
   ]
  },
  {
   "cell_type": "markdown",
   "metadata": {},
   "source": [
    "Before continuing, let's take a moment to cover the _elementary data types_ that R has. The table below tells you the name in R, the analogous type in Python, an explanation of what the type is, and an example of the type **in R**.\n",
    "\n",
    "| R Type | Python Type | Explanation | Example |\n",
    "|-----|-----|-----|-----|\n",
    "| character | str | Stores any character or string literal | `\"A\"`, `\"this is a character\"` |\n",
    "| numeric | float | Floating point numbers | `1.0`, $\\pi$ |\n",
    "| integer | int | Integers (i.e. Floats without decimals) | `1L`, `1e3L` |\n",
    "| complex | complex | Complex numbers | `1+2j` |\n",
    "| logical | bool | True/False values | `TRUE`, `FALSE` |\n",
    "| factor | N/A | Stores values of categorical variable | `factor(c(\"male\", \"female\", \"female\", \"male\"))` |\n",
    "\n",
    "Now let's now consider one of the fundamental structures in R: the _array_. This structure is analgous to a list in Python because it holds values of different types. When the values are all of the same type, it is called a _vector_ (similar to the numpy array). Vectors are created in R using the `c()` function. It is important to note that the `c()` function will _coerce_ data of different types all to the same type. For example, the code below will coerce the integers, floats, and booleans all to strings. This can be shown by applying the `class()` (Python: `type()`) function to the vector, which shows that it is a character vector:"
   ]
  },
  {
   "cell_type": "code",
   "execution_count": null,
   "metadata": {},
   "outputs": [],
   "source": [
    "%%R\n",
    "my_array <- c(\"strings\", 1L, 1.04, 1e4, TRUE)\n",
    "class(my_array)"
   ]
  },
  {
   "cell_type": "markdown",
   "metadata": {},
   "source": [
    "We can coerce integers into floating points, and logicals into integers:"
   ]
  },
  {
   "cell_type": "code",
   "execution_count": null,
   "metadata": {},
   "outputs": [],
   "source": [
    "%%R\n",
    "my_floats = c(1.04, 1L)\n",
    "my_ints = c(1L, 2L, TRUE, FALSE)\n",
    "print(my_floats)\n",
    "print(my_ints)"
   ]
  },
  {
   "cell_type": "markdown",
   "metadata": {},
   "source": [
    "As in Python, the `TRUE` logical evalutes to 1 and the `FALSE` logical to 0. It is also similar in that there are certain values that are truthy and others that are falsy.\n",
    "\n",
    "**Question 2.** Create a vector `my_vector` in R containing the values 1.04, 4 (as an **integer**), and false. Use the `class()` function to see what type these are coerced to."
   ]
  },
  {
   "cell_type": "code",
   "execution_count": null,
   "metadata": {},
   "outputs": [],
   "source": [
    "%%R\n",
    "\n",
    "..."
   ]
  },
  {
   "cell_type": "markdown",
   "metadata": {},
   "source": [
    "**One last, important note:** R differs from Python in one very fundamental way: it is 1-indexed. As someone who has learned Python before R, this will _infuriate_ you was you will constantly default to a 0-index in your code and it will break. Sorry, that's just the way it is. This 1-indexing has two very important consequences that you need to be aware of:\n",
    "1. Slicing arrays and vectors start at index 1: Where in Python we would get the first element using the slice `arr[0]`, we use `arr[1]` in R.\n",
    "2. Intervals are inclusive on **both** ends: In Python, `np.arange(x, y)` is inclusive at the lower end `x` but exludes the upper end `y` ($[x, y)$ in mathematical notation). In R, the range `x:y` is inclusive _at both ends_, meaning that `y` is included in the corresponding range (this is $[x, y]$ in mathematical notation).\n",
    "\n",
    "Now that you've learned the very basics of R, we can move on with the lab. _This is by no means a complete, or even half-complete, introduction to R._ If you want to take on learning R, see our note at the end of this lab for a great resource."
   ]
  },
  {
   "cell_type": "markdown",
   "metadata": {},
   "source": [
    "### `Rget` and `Rpush`\n",
    "The last thing we need to understand about R and Python in Jupyter is how to take variables from one environment to the other. To push a variable from Python to R, we use the `%Rpush` command. To take a variable from R to Python, we use `%Rget`. With the `%Rpush` command, the same variable name that is defined in the Python environment is pushed to the R environment. **This will overwrtite any variables with conflict names in the R environment that you push from Python.** For example, recall the `x` variable we defined in R and Python earlier:"
   ]
  },
  {
   "cell_type": "code",
   "execution_count": null,
   "metadata": {},
   "outputs": [],
   "source": [
    "%R print(x)\n",
    "print(x)"
   ]
  },
  {
   "cell_type": "markdown",
   "metadata": {},
   "source": [
    "If we push the Python string to R, this will overwrite the variable `x` in the R environment."
   ]
  },
  {
   "cell_type": "code",
   "execution_count": null,
   "metadata": {},
   "outputs": [],
   "source": [
    "%Rpush x\n",
    "%R print(x)\n",
    "print(x)"
   ]
  },
  {
   "cell_type": "markdown",
   "metadata": {},
   "source": [
    "The `%Rget` command requires you to save the value to a new variable in Python, just like any other declaration statement. You can use the command to bring the vector float vector we created in R to Python as `my_python_floats`:"
   ]
  },
  {
   "cell_type": "code",
   "execution_count": null,
   "metadata": {},
   "outputs": [],
   "source": [
    "my_python_floats = %Rget my_floats\n",
    "my_python_floats"
   ]
  },
  {
   "cell_type": "markdown",
   "metadata": {},
   "source": [
    "## Part 3: R and Python\n",
    "In this section, we are finally going to drill down the the point of this lab: analyzing strengths and weaknesses across languages and integrating multiple languages to answer a question. Our question is a pretty simple one, but it will aptly demonstrate why we need to use different languages to answer a question:\n",
    "\n",
    "> How can we compute the distances between a set of points and another single point?\n",
    "\n",
    "This may seem like a pretty simple question; in fact, it is. You can simply create an array of all of the points you want to analyze the single point against, and use a loop to repeatedly calculate the distances using the standard distance formula:\n",
    "\n",
    "$$d = \\sqrt{\\left ( x_2 - x_1 \\right ) ^2 + \\left ( y_2 - y_1 \\right ) ^2 + \\left ( z_2  - z_1 \\right ) ^2}$$\n",
    "\n",
    "We'll be using points in 3-D space for this lab, which is why we include the z-component. To answer this question, we want to choose some arbitrary point in space to compare all these others against; let's choose $(1.33, 64236.62, 8696.87)$. \n",
    "\n",
    "**Question 3.** Store the point we just chose in both Python (as an array) and R (as a vector) as `comparison_point`. Do this in the same cell.\n",
    "\n",
    "_Hint:_ Remember the difference between `%%R` and `%R`."
   ]
  },
  {
   "cell_type": "code",
   "execution_count": null,
   "metadata": {},
   "outputs": [],
   "source": [
    "..."
   ]
  },
  {
   "cell_type": "markdown",
   "metadata": {},
   "source": [
    "Now let's consider the set of points we want to compare `comparison_point` against. We have a table in the file data.csv that contains a column of $x$, $y$, and $z$ coordinates. In the cell below, we load in the csv file as `data` and push this table to R."
   ]
  },
  {
   "cell_type": "code",
   "execution_count": null,
   "metadata": {},
   "outputs": [],
   "source": [
    "data = Table.read_table('data.csv')\n",
    "data = data.to_df()\n",
    "%Rpush data\n",
    "data = Table().from_df(data)"
   ]
  },
  {
   "cell_type": "markdown",
   "metadata": {},
   "source": [
    "Now, let's get down to answering our question. First, let's write a function in R that uses a `for` loop to iterate through each $(x,y,z)$ coordinate and returns an array of the distances from `comparison_point`. The function defined below takes a table where the first three columns contain $x$, $y$, and $z$ coordinates of points and an array that contains the coordinates of the comparison point; it returns an array of distances."
   ]
  },
  {
   "cell_type": "code",
   "execution_count": null,
   "metadata": {},
   "outputs": [],
   "source": [
    "%%R\n",
    "dist_from_cp <- function (tbl, cp) {\n",
    "    distances = c()\n",
    "    for (i in 1:dim(tbl)[1]) {\n",
    "        distance = sqrt((tbl[i, 1] - cp[1])^2 + (tbl[i, 2] - cp[2])^2 + (tbl[i, 3] - cp[3])^2)\n",
    "        distances = c(distances, distance)\n",
    "    }\n",
    "    distances\n",
    "}"
   ]
  },
  {
   "cell_type": "markdown",
   "metadata": {},
   "source": [
    "**Question 5.** Call the `dist_from_cp` function we just created in R on the R table `data`, saving the result as `distances`. Pay attention to how long it takes R to compute these values."
   ]
  },
  {
   "cell_type": "code",
   "execution_count": null,
   "metadata": {},
   "outputs": [],
   "source": [
    "%%R\n",
    "\n",
    "...\n",
    "\n",
    "head(distances)"
   ]
  },
  {
   "cell_type": "markdown",
   "metadata": {},
   "source": [
    "**Question 6.** Define a function `dist_from_cp` in Python below that takes a table `tbl` and an array of $(x,y,z)$ values `cp` as its arguments and returns an array of the distances between each row of `tbl` and `cp`. When you run the cell, take note of how long it takes Python to run the computation."
   ]
  },
  {
   "cell_type": "code",
   "execution_count": null,
   "metadata": {},
   "outputs": [],
   "source": [
    "def dist_from_cp(tbl, cp):\n",
    "    ...\n",
    "    return ...\n",
    "    \n",
    "distances = dist_from_cp(data, comparison_point)\n",
    "distances[0:5]"
   ]
  },
  {
   "cell_type": "markdown",
   "metadata": {},
   "source": [
    "You should have noticed in questions 5 and 6 a difference in the computation speed of R and Python; that is, you should have noticed that R is slower than Python. This is because our function `dist_from_cp` uses a `for` loop to iterate through the rows of the table. R is good at lots of things, but `for` loops are not one of them. Instead, R is designed to work best with _vectorized_ operations. This means that it works along a vector, or a set of vectors, rather than through iteration. Vectorized calculations allow R to be computing several values at once, instead of having to wait for each value to finish computing before the next can be done.\n",
    "\n",
    "In the cell below, we vectorize the distance operation by extracting the columns of data and applying a new distance function that takes advantage of R's fast computation over vectors."
   ]
  },
  {
   "cell_type": "code",
   "execution_count": null,
   "metadata": {},
   "outputs": [],
   "source": [
    "%%R\n",
    "x = data$x\n",
    "y = data$y\n",
    "z = data$z\n",
    "\n",
    "dist <- function (x, y, z, cp) {\n",
    "    sqrt((x - cp[1])^2 + (y - cp[2])^2 + (z - cp[3])^2)\n",
    "}\n",
    "\n",
    "vectorized_distance <- function (x, y, z, cp) {\n",
    "    distances = mapply(dist, x, y, z, MoreArgs = list(cp))\n",
    "    distances\n",
    "}\n",
    "\n",
    "results <- vectorized_distance(x, y, z, comparison_point)\n",
    "head(results)"
   ]
  },
  {
   "cell_type": "markdown",
   "metadata": {},
   "source": [
    "The `mapply()` function is a member of the `*apply` family of functions in R that run vectorized operations. Using vectorization, we've made our R code run even faster than the Python code did. \n",
    "\n",
    "It may seem like a neglible difference, but our data set wasn't acctually all that big (only about 18,000 rows). Can you imagine running this code on a much larger data set and/or having to bootstrap your results thousands of times to ensure statistical signifance? It for this reason that a good data scientist understands the strengths and limitations of each language that they use, so that the process can be done most efficiently. In terms of our question, you could have bootstrapped by iterating and shuffling the table in Python and then passing the new table to R to do the vectorized calculation.\n",
    "\n",
    "**Question 7.** What other advantages could there be to using multiple languages to answer a question?"
   ]
  },
  {
   "cell_type": "markdown",
   "metadata": {},
   "source": [
    "_Type your answer here, replacing this text._"
   ]
  },
  {
   "cell_type": "markdown",
   "metadata": {},
   "source": [
    "If you're interested in learning more about R, we recommend the online book [_R for Data Science_ by Hadley Whickham & Garrett Grolemund](https://r4ds.had.co.nz/). It has a great introduction to the R programming language with a particular focus on how it can be applied to data science questions.\n",
    "\n",
    "## Submission\n",
    "Before submtting, please ensure that you have answered all 7 questions. To submit this lab, please upload the .ipynb file to bCourses."
   ]
  }
 ],
 "metadata": {
  "kernelspec": {
   "display_name": "Python 3",
   "language": "python",
   "name": "python3"
  },
  "language_info": {
   "codemirror_mode": {
    "name": "ipython",
    "version": 3
   },
   "file_extension": ".py",
   "mimetype": "text/x-python",
   "name": "python",
   "nbconvert_exporter": "python",
   "pygments_lexer": "ipython3",
   "version": "3.6.5"
  }
 },
 "nbformat": 4,
 "nbformat_minor": 2
}
